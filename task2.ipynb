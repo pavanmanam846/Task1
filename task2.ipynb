{
 "cells": [
  {
   "cell_type": "code",
   "execution_count": 2,
   "metadata": {},
   "outputs": [
    {
     "name": "stdout",
     "output_type": "stream",
     "text": [
      "Enter your roll no: AP1911002214\n",
      "AP1911002214 Belongs to ECE Department\n"
     ]
    }
   ],
   "source": [
    "string = input(\"Enter your roll no: \")\n",
    "string[-3:]\n",
    "\n",
    "if(string[-3:].startswith ('01')):\n",
    "    print(string, 'Belongs to CSE Department')\n",
    "\n",
    "elif(string[-3:].startswith ('11')):\n",
    "    print(string, 'Belongs to IT Department')\n",
    "\n",
    "elif(string[-3:].startswith ('21')):\n",
    "    print(string, 'Belongs to ECE Department')\n",
    "    \n",
    "else:\n",
    "    print(string, 'is not an SRM Student')"
   ]
  },
  {
   "cell_type": "code",
   "execution_count": null,
   "metadata": {},
   "outputs": [],
   "source": []
  }
 ],
 "metadata": {
  "kernelspec": {
   "display_name": "Python 3",
   "language": "python",
   "name": "python3"
  },
  "language_info": {
   "codemirror_mode": {
    "name": "ipython",
    "version": 3
   },
   "file_extension": ".py",
   "mimetype": "text/x-python",
   "name": "python",
   "nbconvert_exporter": "python",
   "pygments_lexer": "ipython3",
   "version": "3.8.5"
  }
 },
 "nbformat": 4,
 "nbformat_minor": 4
}
