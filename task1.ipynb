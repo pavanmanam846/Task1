{
 "cells": [
  {
   "cell_type": "markdown",
   "metadata": {},
   "source": [
    "#TASK-!"
   ]
  },
  {
   "cell_type": "markdown",
   "metadata": {},
   "source": [
    "Write a program to check if the user is elgible to vote or not\n"
   ]
  },
  {
   "cell_type": "code",
   "execution_count": 3,
   "metadata": {},
   "outputs": [
    {
     "name": "stdout",
     "output_type": "stream",
     "text": [
      "Enter your age: 1\n",
      "You are not elgible to vote\n"
     ]
    }
   ],
   "source": [
    "Age = int(input(\"Enter your age: \"))\n",
    "if Age >= 18:\n",
    "    print(\"You are elgible to vote\")\n",
    "else: \n",
    "    print(\"You are not elgible to vote\")"
   ]
  },
  {
   "cell_type": "markdown",
   "metadata": {},
   "source": [
    "Write a program  to check if the given number is positive or not"
   ]
  },
  {
   "cell_type": "code",
   "execution_count": 4,
   "metadata": {},
   "outputs": [
    {
     "name": "stdout",
     "output_type": "stream",
     "text": [
      "Enter a number: 2\n",
      "given number is positive\n"
     ]
    }
   ],
   "source": [
    "num = float(input(\"Enter a number: \"))\n",
    "if num >= 0:\n",
    "    print(\"given number is positive\")\n",
    "else:\n",
    "    print(\"given number is negative\")"
   ]
  },
  {
   "cell_type": "markdown",
   "metadata": {},
   "source": [
    "Check the given number is odd or even, if it's even then check if it is also divisible by 4 or not"
   ]
  },
  {
   "cell_type": "code",
   "execution_count": 7,
   "metadata": {},
   "outputs": [
    {
     "name": "stdout",
     "output_type": "stream",
     "text": [
      "Enter a number: 8\n",
      "The given number is even\n",
      "The given number is even and divisible by 4\n"
     ]
    }
   ],
   "source": [
    "n = int(input(\"Enter a number: \"))\n",
    "if(n % 2) == 0:\n",
    "    print(\"The given number is even\")\n",
    "else:\n",
    "    print(\"The given number is odd\")\n",
    "if((n % 4) == 0):\n",
    "    print(\"The given number is even and divisible by 4\")"
   ]
  },
  {
   "cell_type": "markdown",
   "metadata": {},
   "source": [
    "write a program to print student grade based on percentage"
   ]
  },
  {
   "cell_type": "code",
   "execution_count": 9,
   "metadata": {},
   "outputs": [
    {
     "name": "stdout",
     "output_type": "stream",
     "text": [
      "Enter your marks: 91\n",
      "Passed with distinction\n"
     ]
    }
   ],
   "source": [
    "x = float(input(\"Enter your marks: \"))\n",
    "if (x > 75) & (x <= 100):\n",
    "    print(\"Passed with distinction\")\n",
    "if x <= 35:\n",
    "    print(\"Fail\")\n",
    "if (x > 35) & (x <= 75):\n",
    "    print(\"Pass\")\n"
   ]
  },
  {
   "cell_type": "markdown",
   "metadata": {},
   "source": [
    "Check the given year is Leap or not"
   ]
  },
  {
   "cell_type": "code",
   "execution_count": 10,
   "metadata": {},
   "outputs": [
    {
     "name": "stdout",
     "output_type": "stream",
     "text": [
      "Enter the year 2004\n",
      "The year is leap year!\n"
     ]
    }
   ],
   "source": [
    "year = int(input(\"Enter the year \"))\n",
    "if year%4 == 0 and year%100 != 0 or year%400 == 0:\n",
    "    print(\"The year is leap year!\")\n",
    "else:\n",
    "    print(\"The year isn't a leap year\")"
   ]
  },
  {
   "cell_type": "code",
   "execution_count": null,
   "metadata": {},
   "outputs": [],
   "source": []
  }
 ],
 "metadata": {
  "kernelspec": {
   "display_name": "Python 3",
   "language": "python",
   "name": "python3"
  },
  "language_info": {
   "codemirror_mode": {
    "name": "ipython",
    "version": 3
   },
   "file_extension": ".py",
   "mimetype": "text/x-python",
   "name": "python",
   "nbconvert_exporter": "python",
   "pygments_lexer": "ipython3",
   "version": "3.8.5"
  }
 },
 "nbformat": 4,
 "nbformat_minor": 4
}
