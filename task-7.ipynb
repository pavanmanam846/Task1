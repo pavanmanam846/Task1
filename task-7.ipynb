{
 "cells": [
  {
   "cell_type": "markdown",
   "metadata": {},
   "source": [
    "Create a function for finding the leap years within the given range"
   ]
  },
  {
   "cell_type": "code",
   "execution_count": null,
   "metadata": {},
   "outputs": [],
   "source": [
    "def leap(year):\n",
    "    if year % 4 == 0 and year % 100 != 0 or year % 400 == 0: return True\n",
    "    else: return False\n",
    "\n",
    "start = int(input(\"Enter the lower year: \"))\n",
    "end = int(input(\"Enter the higher year: \"))\n",
    "\n",
    "print(\"Leap years between\", start, \"and\", end, \"are: \")\n",
    "\n",
    "for i in range(start, end):\n",
    "    if leap(i): print(i)"
   ]
  },
  {
   "cell_type": "code",
   "execution_count": null,
   "metadata": {},
   "outputs": [],
   "source": [
    "def armstrong(a, b):\n",
    "    for i in range(a, b+1):\n",
    "        num = i\n",
    "        result = 0\n",
    "        n = len(str(i))\n",
    "        while i != 0:\n",
    "            digit = i % 10\n",
    "            result = result + digit ** n\n",
    "            i = i//10\n",
    "        if num == result:\n",
    "            print(num)\n",
    "\n",
    "start = int(input(\"Enter your lower value: \"))\n",
    "end = int(input(\"Enter your higher value: \"))\n",
    "armstrong(start, end)\n"
   ]
  },
  {
   "cell_type": "code",
   "execution_count": null,
   "metadata": {},
   "outputs": [],
   "source": [
    "def prime(a, b):\n",
    "    for n in range(a, b+1):\n",
    "        for i in range(2, n):\n",
    "            if n % i == 0:\n",
    "                break\n",
    "        else:\n",
    "            print(n, \"is a prime number\")\n",
    "\n",
    "lower = int(input(\"Enter your lower range: \"))\n",
    "upper = int(input(\"Enter your upper range: \"))\n",
    "\n",
    "prime(lower, upper)"
   ]
  },
  {
   "cell_type": "code",
   "execution_count": null,
   "metadata": {},
   "outputs": [],
   "source": [
    "def count_string(s):\n",
    "    res={}\n",
    "    for i in s:\n",
    "        if i in res:\n",
    "            res[i]+=1\n",
    "        else:\n",
    "            res[i]=1\n",
    "    return res\n",
    "\n",
    "string = input(\"Enter your value: \")\n",
    "print(\"Number of elements in your string is: \", count_string(string))"
   ]
  },
  {
   "cell_type": "code",
   "execution_count": null,
   "metadata": {},
   "outputs": [],
   "source": []
  }
 ],
 "metadata": {
  "kernelspec": {
   "display_name": "Python 3",
   "language": "python",
   "name": "python3"
  },
  "language_info": {
   "codemirror_mode": {
    "name": "ipython",
    "version": 3
   },
   "file_extension": ".py",
   "mimetype": "text/x-python",
   "name": "python",
   "nbconvert_exporter": "python",
   "pygments_lexer": "ipython3",
   "version": "3.8.5"
  }
 },
 "nbformat": 4,
 "nbformat_minor": 4
}
