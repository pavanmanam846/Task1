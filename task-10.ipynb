{
 "cells": [
  {
   "cell_type": "code",
   "execution_count": 1,
   "metadata": {},
   "outputs": [],
   "source": [
    "f = open(\"file1.txt\",'w')\n",
    "f.write(\"This is line 1 in the file.  \\n\")\n",
    "f.write(\"This is line 2 in the file.  \\n\")\n",
    "f.write(\"This is line 3 in the file.  \\n\")\n",
    "f.write(\"This is line 4 in the file.  \\n\")\n",
    "f.write(\"This is line 5 in the file.  \\n\")\n",
    "f.write(\"This is line 6 in the file.  \\n\")\n",
    "f.write(\"This is line 7 in the file.  \\n\")\n",
    "f.write(\"This is line 8 in the file.  \\n\")\n",
    "f.write(\"This is line 9 in the file.  \\n\")\n",
    "f.close()"
   ]
  },
  {
   "cell_type": "code",
   "execution_count": 2,
   "metadata": {},
   "outputs": [
    {
     "name": "stdout",
     "output_type": "stream",
     "text": [
      "This is line 5 in the file.  \n",
      "This is line 6 in the file.  \n",
      "This is line 7 in the file.  \n",
      "This is line 8 in the file.  \n",
      "This is line 9 in the file.  \n"
     ]
    }
   ],
   "source": [
    "with open(\"file1.txt\") as file:\n",
    "    for line in (file.readlines() [-5:]):\n",
    "        print(line, end ='')\n",
    "\n",
    "f.close()"
   ]
  },
  {
   "cell_type": "code",
   "execution_count": null,
   "metadata": {},
   "outputs": [],
   "source": [
    "def append(string):\n",
    "    f=open('file1.txt', 'a+')\n",
    "    f.write(\"{}  \\n\".format(string))    \n",
    "    f.close()\n",
    "    \n",
    "\n",
    "append(input(\"Enter the Line be added in file: \"))\n",
    "\n",
    "f = open('file1.txt')   \n",
    "print(f.read())\n",
    "f.close()"
   ]
  },
  {
   "cell_type": "code",
   "execution_count": null,
   "metadata": {},
   "outputs": [],
   "source": [
    "import re\n",
    "f = open('file2.txt','w')\n",
    "f.write(\"Name   Designation    Emp_ID \\n\")\n",
    "f.write(\"Rahul    Analyst      123 \\n\")\n",
    "f.close()\n",
    "f = open('file2.txt')\n",
    "print(f.read())"
   ]
  },
  {
   "cell_type": "code",
   "execution_count": null,
   "metadata": {},
   "outputs": [],
   "source": [
    "with open('file2.txt','r+') as f:\n",
    "    text = f.read()\n",
    "    text = re.sub(input(\"Orginal Data: \"), input(\"Updating Data: \"), text)\n",
    "    f.seek(0)\n",
    "    f.write(text)\n",
    "    f.truncate()\n",
    "f = open('file2.txt')\n",
    "print(f.read())"
   ]
  },
  {
   "cell_type": "code",
   "execution_count": null,
   "metadata": {},
   "outputs": [],
   "source": []
  }
 ],
 "metadata": {
  "kernelspec": {
   "display_name": "Python 3",
   "language": "python",
   "name": "python3"
  },
  "language_info": {
   "codemirror_mode": {
    "name": "ipython",
    "version": 3
   },
   "file_extension": ".py",
   "mimetype": "text/x-python",
   "name": "python",
   "nbconvert_exporter": "python",
   "pygments_lexer": "ipython3",
   "version": "3.8.5"
  }
 },
 "nbformat": 4,
 "nbformat_minor": 4
}
