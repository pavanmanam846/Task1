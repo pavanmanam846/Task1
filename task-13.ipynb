{
 "cells": [
  {
   "cell_type": "code",
   "execution_count": 1,
   "metadata": {},
   "outputs": [],
   "source": [
    "import numpy as np"
   ]
  },
  {
   "cell_type": "code",
   "execution_count": 2,
   "metadata": {},
   "outputs": [
    {
     "name": "stdout",
     "output_type": "stream",
     "text": [
      "[-3 -2 -1  0  1  2  3] int32\n"
     ]
    }
   ],
   "source": [
    "a = np.array([-3,-2,-1,0,1,2,3])\n",
    "print(a,a.dtype)"
   ]
  },
  {
   "cell_type": "code",
   "execution_count": 3,
   "metadata": {},
   "outputs": [
    {
     "name": "stdout",
     "output_type": "stream",
     "text": [
      "[ True  True  True False  True  True  True] bool\n"
     ]
    }
   ],
   "source": [
    "a = np.array([-3,-2,-1,0,1,2,3], dtype='bool_')\n",
    "print(a,a.dtype)"
   ]
  },
  {
   "cell_type": "code",
   "execution_count": 4,
   "metadata": {},
   "outputs": [
    {
     "name": "stdout",
     "output_type": "stream",
     "text": [
      "[65533 65534 65535     0     1     2     3] uint16\n"
     ]
    }
   ],
   "source": [
    "a = np.array([-3,-2,-1,0,1,2,3], dtype='uint16')\n",
    "print(a,a.dtype)"
   ]
  },
  {
   "cell_type": "code",
   "execution_count": 5,
   "metadata": {},
   "outputs": [
    {
     "name": "stdout",
     "output_type": "stream",
     "text": [
      "[-3.9 -2.7 -1.6  0.   1.   2.4  3.5] float64\n"
     ]
    }
   ],
   "source": [
    "a = np.array([-3.9,-2.7,-1.6,0,1.,2.4,3.5])\n",
    "print(a,a.dtype)"
   ]
  },
  {
   "cell_type": "code",
   "execution_count": 6,
   "metadata": {},
   "outputs": [
    {
     "name": "stdout",
     "output_type": "stream",
     "text": [
      "[1.1+0.j  2.2+3.3j 0. +4.4j] complex128\n"
     ]
    }
   ],
   "source": [
    "a = np.array([1.1,2.2+3.3j,4.4j])\n",
    "print(a,a.dtype)"
   ]
  },
  {
   "cell_type": "code",
   "execution_count": 7,
   "metadata": {},
   "outputs": [
    {
     "name": "stdout",
     "output_type": "stream",
     "text": [
      "9 days timedelta64[D]\n"
     ]
    }
   ],
   "source": [
    "a = np.timedelta64(9, 'D')\n",
    "print(a,a.dtype)"
   ]
  },
  {
   "cell_type": "code",
   "execution_count": 8,
   "metadata": {},
   "outputs": [
    {
     "name": "stdout",
     "output_type": "stream",
     "text": [
      "['2019-04-21' '2014-04-18' '2011-06-21'] datetime64[D]\n"
     ]
    }
   ],
   "source": [
    "a=np.array(['2019-04-21', '2014-04-18', '2011-06-21'], dtype='datetime64')\n",
    "print(a,a.dtype)"
   ]
  },
  {
   "cell_type": "code",
   "execution_count": 9,
   "metadata": {},
   "outputs": [
    {
     "name": "stdout",
     "output_type": "stream",
     "text": [
      "[27 56 98] object\n"
     ]
    }
   ],
   "source": [
    "a = np.array([27,56,98], dtype='O')\n",
    "print(a,a.dtype)"
   ]
  },
  {
   "cell_type": "code",
   "execution_count": 10,
   "metadata": {},
   "outputs": [
    {
     "name": "stdout",
     "output_type": "stream",
     "text": [
      "['kumar' 'SRM' 'CSE'] <U5\n"
     ]
    }
   ],
   "source": [
    "a = np.array(['kumar', 'SRM', 'CSE'])\n",
    "print(a, a.dtype)"
   ]
  },
  {
   "cell_type": "code",
   "execution_count": 11,
   "metadata": {},
   "outputs": [
    {
     "name": "stdout",
     "output_type": "stream",
     "text": [
      "['ὠ0' '∂r' 'ὠ9'] <U2\n"
     ]
    }
   ],
   "source": [
    "a = np.array([u'\\u1F600',u'\\u2202r',u'\\u1F609'], dtype='U')\n",
    "print(a,a.dtype)"
   ]
  },
  {
   "cell_type": "code",
   "execution_count": null,
   "metadata": {},
   "outputs": [],
   "source": []
  }
 ],
 "metadata": {
  "kernelspec": {
   "display_name": "Python 3",
   "language": "python",
   "name": "python3"
  },
  "language_info": {
   "codemirror_mode": {
    "name": "ipython",
    "version": 3
   },
   "file_extension": ".py",
   "mimetype": "text/x-python",
   "name": "python",
   "nbconvert_exporter": "python",
   "pygments_lexer": "ipython3",
   "version": "3.8.5"
  }
 },
 "nbformat": 4,
 "nbformat_minor": 4
}
